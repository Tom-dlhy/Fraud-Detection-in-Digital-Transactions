version https://git-lfs.github.com/spec/v1
oid sha256:0a944f7426a8b174264d57f3942a435448b444690c4a4816c406f7115e02afe2
size 342732
