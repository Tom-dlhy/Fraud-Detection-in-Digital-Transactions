version https://git-lfs.github.com/spec/v1
oid sha256:b1a27ab4cfd5464065ac3d3e12b46565c2e26f0e69c22ad22e91144dc75e23c2
size 359547
